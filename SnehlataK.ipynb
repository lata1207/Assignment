{
 "cells": [
  {
   "cell_type": "code",
   "execution_count": 2,
   "id": "59eb52e3-aeac-42e7-8e53-3cd71881c325",
   "metadata": {
    "scrolled": true
   },
   "outputs": [],
   "source": [
    "import numpy as np\n",
    "import matplotlib.pyplot as plt\n",
    "import pandas as pd\n",
    "import seaborn as sns\n"
   ]
  },
  {
   "cell_type": "code",
   "execution_count": 3,
   "id": "08cc1293",
   "metadata": {},
   "outputs": [
    {
     "data": {
      "text/html": [
       "<div>\n",
       "<style scoped>\n",
       "    .dataframe tbody tr th:only-of-type {\n",
       "        vertical-align: middle;\n",
       "    }\n",
       "\n",
       "    .dataframe tbody tr th {\n",
       "        vertical-align: top;\n",
       "    }\n",
       "\n",
       "    .dataframe thead th {\n",
       "        text-align: right;\n",
       "    }\n",
       "</style>\n",
       "<table border=\"1\" class=\"dataframe\">\n",
       "  <thead>\n",
       "    <tr style=\"text-align: right;\">\n",
       "      <th></th>\n",
       "      <th>Unnamed: 0</th>\n",
       "      <th>age</th>\n",
       "      <th>gender</th>\n",
       "      <th>year_in_school</th>\n",
       "      <th>major</th>\n",
       "      <th>monthly_income</th>\n",
       "      <th>financial_aid</th>\n",
       "      <th>tuition</th>\n",
       "      <th>housing</th>\n",
       "      <th>food</th>\n",
       "      <th>transportation</th>\n",
       "      <th>books_supplies</th>\n",
       "      <th>entertainment</th>\n",
       "      <th>personal_care</th>\n",
       "      <th>technology</th>\n",
       "      <th>health_wellness</th>\n",
       "      <th>miscellaneous</th>\n",
       "      <th>preferred_payment_method</th>\n",
       "    </tr>\n",
       "  </thead>\n",
       "  <tbody>\n",
       "    <tr>\n",
       "      <th>0</th>\n",
       "      <td>0</td>\n",
       "      <td>19</td>\n",
       "      <td>Non-binary</td>\n",
       "      <td>Freshman</td>\n",
       "      <td>Psychology</td>\n",
       "      <td>958</td>\n",
       "      <td>270</td>\n",
       "      <td>5939</td>\n",
       "      <td>709</td>\n",
       "      <td>296</td>\n",
       "      <td>123</td>\n",
       "      <td>188</td>\n",
       "      <td>41</td>\n",
       "      <td>78</td>\n",
       "      <td>134</td>\n",
       "      <td>127</td>\n",
       "      <td>72</td>\n",
       "      <td>Credit/Debit Card</td>\n",
       "    </tr>\n",
       "    <tr>\n",
       "      <th>1</th>\n",
       "      <td>1</td>\n",
       "      <td>24</td>\n",
       "      <td>Female</td>\n",
       "      <td>Junior</td>\n",
       "      <td>Economics</td>\n",
       "      <td>1006</td>\n",
       "      <td>875</td>\n",
       "      <td>4908</td>\n",
       "      <td>557</td>\n",
       "      <td>365</td>\n",
       "      <td>85</td>\n",
       "      <td>252</td>\n",
       "      <td>74</td>\n",
       "      <td>92</td>\n",
       "      <td>226</td>\n",
       "      <td>129</td>\n",
       "      <td>68</td>\n",
       "      <td>Credit/Debit Card</td>\n",
       "    </tr>\n",
       "    <tr>\n",
       "      <th>2</th>\n",
       "      <td>2</td>\n",
       "      <td>24</td>\n",
       "      <td>Non-binary</td>\n",
       "      <td>Junior</td>\n",
       "      <td>Economics</td>\n",
       "      <td>734</td>\n",
       "      <td>928</td>\n",
       "      <td>3051</td>\n",
       "      <td>666</td>\n",
       "      <td>220</td>\n",
       "      <td>137</td>\n",
       "      <td>99</td>\n",
       "      <td>130</td>\n",
       "      <td>23</td>\n",
       "      <td>239</td>\n",
       "      <td>112</td>\n",
       "      <td>133</td>\n",
       "      <td>Cash</td>\n",
       "    </tr>\n",
       "    <tr>\n",
       "      <th>3</th>\n",
       "      <td>3</td>\n",
       "      <td>23</td>\n",
       "      <td>Female</td>\n",
       "      <td>Senior</td>\n",
       "      <td>Computer Science</td>\n",
       "      <td>617</td>\n",
       "      <td>265</td>\n",
       "      <td>4935</td>\n",
       "      <td>652</td>\n",
       "      <td>289</td>\n",
       "      <td>114</td>\n",
       "      <td>223</td>\n",
       "      <td>99</td>\n",
       "      <td>30</td>\n",
       "      <td>163</td>\n",
       "      <td>105</td>\n",
       "      <td>55</td>\n",
       "      <td>Mobile Payment App</td>\n",
       "    </tr>\n",
       "    <tr>\n",
       "      <th>4</th>\n",
       "      <td>4</td>\n",
       "      <td>20</td>\n",
       "      <td>Female</td>\n",
       "      <td>Senior</td>\n",
       "      <td>Computer Science</td>\n",
       "      <td>810</td>\n",
       "      <td>522</td>\n",
       "      <td>3887</td>\n",
       "      <td>825</td>\n",
       "      <td>372</td>\n",
       "      <td>168</td>\n",
       "      <td>194</td>\n",
       "      <td>48</td>\n",
       "      <td>71</td>\n",
       "      <td>88</td>\n",
       "      <td>71</td>\n",
       "      <td>104</td>\n",
       "      <td>Credit/Debit Card</td>\n",
       "    </tr>\n",
       "    <tr>\n",
       "      <th>5</th>\n",
       "      <td>5</td>\n",
       "      <td>25</td>\n",
       "      <td>Non-binary</td>\n",
       "      <td>Sophomore</td>\n",
       "      <td>Computer Science</td>\n",
       "      <td>523</td>\n",
       "      <td>790</td>\n",
       "      <td>3151</td>\n",
       "      <td>413</td>\n",
       "      <td>386</td>\n",
       "      <td>122</td>\n",
       "      <td>131</td>\n",
       "      <td>73</td>\n",
       "      <td>38</td>\n",
       "      <td>234</td>\n",
       "      <td>108</td>\n",
       "      <td>99</td>\n",
       "      <td>Mobile Payment App</td>\n",
       "    </tr>\n",
       "    <tr>\n",
       "      <th>6</th>\n",
       "      <td>6</td>\n",
       "      <td>23</td>\n",
       "      <td>Female</td>\n",
       "      <td>Freshman</td>\n",
       "      <td>Engineering</td>\n",
       "      <td>1354</td>\n",
       "      <td>69</td>\n",
       "      <td>4973</td>\n",
       "      <td>812</td>\n",
       "      <td>398</td>\n",
       "      <td>101</td>\n",
       "      <td>213</td>\n",
       "      <td>21</td>\n",
       "      <td>38</td>\n",
       "      <td>157</td>\n",
       "      <td>117</td>\n",
       "      <td>48</td>\n",
       "      <td>Credit/Debit Card</td>\n",
       "    </tr>\n",
       "    <tr>\n",
       "      <th>7</th>\n",
       "      <td>7</td>\n",
       "      <td>23</td>\n",
       "      <td>Female</td>\n",
       "      <td>Junior</td>\n",
       "      <td>Economics</td>\n",
       "      <td>631</td>\n",
       "      <td>748</td>\n",
       "      <td>3966</td>\n",
       "      <td>571</td>\n",
       "      <td>269</td>\n",
       "      <td>92</td>\n",
       "      <td>251</td>\n",
       "      <td>37</td>\n",
       "      <td>90</td>\n",
       "      <td>152</td>\n",
       "      <td>56</td>\n",
       "      <td>62</td>\n",
       "      <td>Mobile Payment App</td>\n",
       "    </tr>\n",
       "    <tr>\n",
       "      <th>8</th>\n",
       "      <td>8</td>\n",
       "      <td>22</td>\n",
       "      <td>Non-binary</td>\n",
       "      <td>Senior</td>\n",
       "      <td>Computer Science</td>\n",
       "      <td>1402</td>\n",
       "      <td>248</td>\n",
       "      <td>5638</td>\n",
       "      <td>599</td>\n",
       "      <td>354</td>\n",
       "      <td>82</td>\n",
       "      <td>155</td>\n",
       "      <td>123</td>\n",
       "      <td>41</td>\n",
       "      <td>162</td>\n",
       "      <td>172</td>\n",
       "      <td>194</td>\n",
       "      <td>Credit/Debit Card</td>\n",
       "    </tr>\n",
       "    <tr>\n",
       "      <th>9</th>\n",
       "      <td>9</td>\n",
       "      <td>18</td>\n",
       "      <td>Female</td>\n",
       "      <td>Junior</td>\n",
       "      <td>Computer Science</td>\n",
       "      <td>1423</td>\n",
       "      <td>74</td>\n",
       "      <td>3977</td>\n",
       "      <td>626</td>\n",
       "      <td>249</td>\n",
       "      <td>117</td>\n",
       "      <td>123</td>\n",
       "      <td>51</td>\n",
       "      <td>74</td>\n",
       "      <td>243</td>\n",
       "      <td>34</td>\n",
       "      <td>196</td>\n",
       "      <td>Mobile Payment App</td>\n",
       "    </tr>\n",
       "  </tbody>\n",
       "</table>\n",
       "</div>"
      ],
      "text/plain": [
       "   Unnamed: 0  age      gender year_in_school             major  \\\n",
       "0           0   19  Non-binary       Freshman        Psychology   \n",
       "1           1   24      Female         Junior         Economics   \n",
       "2           2   24  Non-binary         Junior         Economics   \n",
       "3           3   23      Female         Senior  Computer Science   \n",
       "4           4   20      Female         Senior  Computer Science   \n",
       "5           5   25  Non-binary      Sophomore  Computer Science   \n",
       "6           6   23      Female       Freshman       Engineering   \n",
       "7           7   23      Female         Junior         Economics   \n",
       "8           8   22  Non-binary         Senior  Computer Science   \n",
       "9           9   18      Female         Junior  Computer Science   \n",
       "\n",
       "   monthly_income  financial_aid  tuition  housing  food  transportation  \\\n",
       "0             958            270     5939      709   296             123   \n",
       "1            1006            875     4908      557   365              85   \n",
       "2             734            928     3051      666   220             137   \n",
       "3             617            265     4935      652   289             114   \n",
       "4             810            522     3887      825   372             168   \n",
       "5             523            790     3151      413   386             122   \n",
       "6            1354             69     4973      812   398             101   \n",
       "7             631            748     3966      571   269              92   \n",
       "8            1402            248     5638      599   354              82   \n",
       "9            1423             74     3977      626   249             117   \n",
       "\n",
       "   books_supplies  entertainment  personal_care  technology  health_wellness  \\\n",
       "0             188             41             78         134              127   \n",
       "1             252             74             92         226              129   \n",
       "2              99            130             23         239              112   \n",
       "3             223             99             30         163              105   \n",
       "4             194             48             71          88               71   \n",
       "5             131             73             38         234              108   \n",
       "6             213             21             38         157              117   \n",
       "7             251             37             90         152               56   \n",
       "8             155            123             41         162              172   \n",
       "9             123             51             74         243               34   \n",
       "\n",
       "   miscellaneous preferred_payment_method  \n",
       "0             72        Credit/Debit Card  \n",
       "1             68        Credit/Debit Card  \n",
       "2            133                     Cash  \n",
       "3             55       Mobile Payment App  \n",
       "4            104        Credit/Debit Card  \n",
       "5             99       Mobile Payment App  \n",
       "6             48        Credit/Debit Card  \n",
       "7             62       Mobile Payment App  \n",
       "8            194        Credit/Debit Card  \n",
       "9            196       Mobile Payment App  "
      ]
     },
     "execution_count": 3,
     "metadata": {},
     "output_type": "execute_result"
    }
   ],
   "source": [
    "df = pd.read_csv(\"student_spending.csv\")\n",
    "df.head(10)\n"
   ]
  },
  {
   "cell_type": "markdown",
   "id": "3ac1c4d9",
   "metadata": {},
   "source": [
    "The unnamed column shows index only which is same as serial number.Thus, it not required and need to be removed."
   ]
  },
  {
   "cell_type": "code",
   "execution_count": 4,
   "id": "8e1bea5f",
   "metadata": {},
   "outputs": [
    {
     "data": {
      "text/plain": [
       "Index(['Unnamed: 0', 'age', 'gender', 'year_in_school', 'major',\n",
       "       'monthly_income', 'financial_aid', 'tuition', 'housing', 'food',\n",
       "       'transportation', 'books_supplies', 'entertainment', 'personal_care',\n",
       "       'technology', 'health_wellness', 'miscellaneous',\n",
       "       'preferred_payment_method'],\n",
       "      dtype='object')"
      ]
     },
     "execution_count": 4,
     "metadata": {},
     "output_type": "execute_result"
    }
   ],
   "source": [
    "df.columns"
   ]
  },
  {
   "cell_type": "code",
   "execution_count": 5,
   "id": "c4df8042",
   "metadata": {},
   "outputs": [],
   "source": [
    "#Remove the unnamed column\n",
    "df.drop(columns='Unnamed: 0' ,inplace=True)"
   ]
  },
  {
   "cell_type": "code",
   "execution_count": 6,
   "id": "f5a015a6",
   "metadata": {},
   "outputs": [
    {
     "data": {
      "text/html": [
       "<div>\n",
       "<style scoped>\n",
       "    .dataframe tbody tr th:only-of-type {\n",
       "        vertical-align: middle;\n",
       "    }\n",
       "\n",
       "    .dataframe tbody tr th {\n",
       "        vertical-align: top;\n",
       "    }\n",
       "\n",
       "    .dataframe thead th {\n",
       "        text-align: right;\n",
       "    }\n",
       "</style>\n",
       "<table border=\"1\" class=\"dataframe\">\n",
       "  <thead>\n",
       "    <tr style=\"text-align: right;\">\n",
       "      <th></th>\n",
       "      <th>age</th>\n",
       "      <th>gender</th>\n",
       "      <th>year_in_school</th>\n",
       "      <th>major</th>\n",
       "      <th>monthly_income</th>\n",
       "      <th>financial_aid</th>\n",
       "      <th>tuition</th>\n",
       "      <th>housing</th>\n",
       "      <th>food</th>\n",
       "      <th>transportation</th>\n",
       "      <th>books_supplies</th>\n",
       "      <th>entertainment</th>\n",
       "      <th>personal_care</th>\n",
       "      <th>technology</th>\n",
       "      <th>health_wellness</th>\n",
       "      <th>miscellaneous</th>\n",
       "      <th>preferred_payment_method</th>\n",
       "    </tr>\n",
       "  </thead>\n",
       "  <tbody>\n",
       "    <tr>\n",
       "      <th>0</th>\n",
       "      <td>19</td>\n",
       "      <td>Non-binary</td>\n",
       "      <td>Freshman</td>\n",
       "      <td>Psychology</td>\n",
       "      <td>958</td>\n",
       "      <td>270</td>\n",
       "      <td>5939</td>\n",
       "      <td>709</td>\n",
       "      <td>296</td>\n",
       "      <td>123</td>\n",
       "      <td>188</td>\n",
       "      <td>41</td>\n",
       "      <td>78</td>\n",
       "      <td>134</td>\n",
       "      <td>127</td>\n",
       "      <td>72</td>\n",
       "      <td>Credit/Debit Card</td>\n",
       "    </tr>\n",
       "    <tr>\n",
       "      <th>1</th>\n",
       "      <td>24</td>\n",
       "      <td>Female</td>\n",
       "      <td>Junior</td>\n",
       "      <td>Economics</td>\n",
       "      <td>1006</td>\n",
       "      <td>875</td>\n",
       "      <td>4908</td>\n",
       "      <td>557</td>\n",
       "      <td>365</td>\n",
       "      <td>85</td>\n",
       "      <td>252</td>\n",
       "      <td>74</td>\n",
       "      <td>92</td>\n",
       "      <td>226</td>\n",
       "      <td>129</td>\n",
       "      <td>68</td>\n",
       "      <td>Credit/Debit Card</td>\n",
       "    </tr>\n",
       "  </tbody>\n",
       "</table>\n",
       "</div>"
      ],
      "text/plain": [
       "   age      gender year_in_school       major  monthly_income  financial_aid  \\\n",
       "0   19  Non-binary       Freshman  Psychology             958            270   \n",
       "1   24      Female         Junior   Economics            1006            875   \n",
       "\n",
       "   tuition  housing  food  transportation  books_supplies  entertainment  \\\n",
       "0     5939      709   296             123             188             41   \n",
       "1     4908      557   365              85             252             74   \n",
       "\n",
       "   personal_care  technology  health_wellness  miscellaneous  \\\n",
       "0             78         134              127             72   \n",
       "1             92         226              129             68   \n",
       "\n",
       "  preferred_payment_method  \n",
       "0        Credit/Debit Card  \n",
       "1        Credit/Debit Card  "
      ]
     },
     "execution_count": 6,
     "metadata": {},
     "output_type": "execute_result"
    }
   ],
   "source": [
    "df.head(2)"
   ]
  },
  {
   "cell_type": "markdown",
   "id": "998e768f",
   "metadata": {},
   "source": [
    "To avoid the repeatation ,as it clearly visible that unnamed column is removed."
   ]
  },
  {
   "cell_type": "code",
   "execution_count": 7,
   "id": "a136a060-0d87-4505-b735-cab7d60f41fc",
   "metadata": {},
   "outputs": [
    {
     "data": {
      "text/plain": [
       "(1000, 17)"
      ]
     },
     "execution_count": 7,
     "metadata": {},
     "output_type": "execute_result"
    }
   ],
   "source": [
    "df.shape"
   ]
  },
  {
   "cell_type": "markdown",
   "id": "37508c45",
   "metadata": {},
   "source": [
    "This dataset has 1000 rows and 18 columns."
   ]
  },
  {
   "cell_type": "code",
   "execution_count": 8,
   "id": "3cae86ee",
   "metadata": {},
   "outputs": [
    {
     "name": "stdout",
     "output_type": "stream",
     "text": [
      "<class 'pandas.core.frame.DataFrame'>\n",
      "RangeIndex: 1000 entries, 0 to 999\n",
      "Data columns (total 17 columns):\n",
      " #   Column                    Non-Null Count  Dtype \n",
      "---  ------                    --------------  ----- \n",
      " 0   age                       1000 non-null   int64 \n",
      " 1   gender                    1000 non-null   object\n",
      " 2   year_in_school            1000 non-null   object\n",
      " 3   major                     1000 non-null   object\n",
      " 4   monthly_income            1000 non-null   int64 \n",
      " 5   financial_aid             1000 non-null   int64 \n",
      " 6   tuition                   1000 non-null   int64 \n",
      " 7   housing                   1000 non-null   int64 \n",
      " 8   food                      1000 non-null   int64 \n",
      " 9   transportation            1000 non-null   int64 \n",
      " 10  books_supplies            1000 non-null   int64 \n",
      " 11  entertainment             1000 non-null   int64 \n",
      " 12  personal_care             1000 non-null   int64 \n",
      " 13  technology                1000 non-null   int64 \n",
      " 14  health_wellness           1000 non-null   int64 \n",
      " 15  miscellaneous             1000 non-null   int64 \n",
      " 16  preferred_payment_method  1000 non-null   object\n",
      "dtypes: int64(13), object(4)\n",
      "memory usage: 132.9+ KB\n"
     ]
    }
   ],
   "source": [
    "df.info()"
   ]
  },
  {
   "cell_type": "markdown",
   "id": "f0f5e796",
   "metadata": {},
   "source": [
    "describe, quantity the integer & object "
   ]
  },
  {
   "cell_type": "code",
   "execution_count": 9,
   "id": "936e15ec-3e26-4217-831b-d46d62c87ce3",
   "metadata": {},
   "outputs": [
    {
     "data": {
      "text/html": [
       "<div>\n",
       "<style scoped>\n",
       "    .dataframe tbody tr th:only-of-type {\n",
       "        vertical-align: middle;\n",
       "    }\n",
       "\n",
       "    .dataframe tbody tr th {\n",
       "        vertical-align: top;\n",
       "    }\n",
       "\n",
       "    .dataframe thead th {\n",
       "        text-align: right;\n",
       "    }\n",
       "</style>\n",
       "<table border=\"1\" class=\"dataframe\">\n",
       "  <thead>\n",
       "    <tr style=\"text-align: right;\">\n",
       "      <th></th>\n",
       "      <th>age</th>\n",
       "      <th>monthly_income</th>\n",
       "      <th>financial_aid</th>\n",
       "      <th>tuition</th>\n",
       "      <th>housing</th>\n",
       "      <th>food</th>\n",
       "      <th>transportation</th>\n",
       "      <th>books_supplies</th>\n",
       "      <th>entertainment</th>\n",
       "      <th>personal_care</th>\n",
       "      <th>technology</th>\n",
       "      <th>health_wellness</th>\n",
       "      <th>miscellaneous</th>\n",
       "    </tr>\n",
       "  </thead>\n",
       "  <tbody>\n",
       "    <tr>\n",
       "      <th>count</th>\n",
       "      <td>1000.000000</td>\n",
       "      <td>1000.000000</td>\n",
       "      <td>1000.000000</td>\n",
       "      <td>1000.000000</td>\n",
       "      <td>1000.00000</td>\n",
       "      <td>1000.000000</td>\n",
       "      <td>1000.00000</td>\n",
       "      <td>1000.000000</td>\n",
       "      <td>1000.000000</td>\n",
       "      <td>1000.000000</td>\n",
       "      <td>1000.000000</td>\n",
       "      <td>1000.000000</td>\n",
       "      <td>1000.000000</td>\n",
       "    </tr>\n",
       "    <tr>\n",
       "      <th>mean</th>\n",
       "      <td>21.675000</td>\n",
       "      <td>1020.650000</td>\n",
       "      <td>504.771000</td>\n",
       "      <td>4520.395000</td>\n",
       "      <td>696.00600</td>\n",
       "      <td>252.642000</td>\n",
       "      <td>124.63700</td>\n",
       "      <td>174.761000</td>\n",
       "      <td>84.814000</td>\n",
       "      <td>60.699000</td>\n",
       "      <td>178.304000</td>\n",
       "      <td>114.310000</td>\n",
       "      <td>108.910000</td>\n",
       "    </tr>\n",
       "    <tr>\n",
       "      <th>std</th>\n",
       "      <td>2.322664</td>\n",
       "      <td>293.841161</td>\n",
       "      <td>287.092575</td>\n",
       "      <td>860.657944</td>\n",
       "      <td>171.21862</td>\n",
       "      <td>86.949606</td>\n",
       "      <td>43.55799</td>\n",
       "      <td>72.404518</td>\n",
       "      <td>37.970451</td>\n",
       "      <td>22.898007</td>\n",
       "      <td>71.744441</td>\n",
       "      <td>49.591544</td>\n",
       "      <td>52.412221</td>\n",
       "    </tr>\n",
       "    <tr>\n",
       "      <th>min</th>\n",
       "      <td>18.000000</td>\n",
       "      <td>501.000000</td>\n",
       "      <td>0.000000</td>\n",
       "      <td>3003.000000</td>\n",
       "      <td>401.00000</td>\n",
       "      <td>100.000000</td>\n",
       "      <td>50.00000</td>\n",
       "      <td>50.000000</td>\n",
       "      <td>20.000000</td>\n",
       "      <td>20.000000</td>\n",
       "      <td>50.000000</td>\n",
       "      <td>30.000000</td>\n",
       "      <td>20.000000</td>\n",
       "    </tr>\n",
       "    <tr>\n",
       "      <th>25%</th>\n",
       "      <td>20.000000</td>\n",
       "      <td>770.750000</td>\n",
       "      <td>261.000000</td>\n",
       "      <td>3779.750000</td>\n",
       "      <td>538.75000</td>\n",
       "      <td>175.000000</td>\n",
       "      <td>88.00000</td>\n",
       "      <td>112.000000</td>\n",
       "      <td>54.000000</td>\n",
       "      <td>41.000000</td>\n",
       "      <td>114.000000</td>\n",
       "      <td>73.000000</td>\n",
       "      <td>63.750000</td>\n",
       "    </tr>\n",
       "    <tr>\n",
       "      <th>50%</th>\n",
       "      <td>22.000000</td>\n",
       "      <td>1021.000000</td>\n",
       "      <td>513.000000</td>\n",
       "      <td>4547.500000</td>\n",
       "      <td>704.50000</td>\n",
       "      <td>255.000000</td>\n",
       "      <td>123.00000</td>\n",
       "      <td>175.000000</td>\n",
       "      <td>86.000000</td>\n",
       "      <td>62.000000</td>\n",
       "      <td>178.000000</td>\n",
       "      <td>115.000000</td>\n",
       "      <td>110.000000</td>\n",
       "    </tr>\n",
       "    <tr>\n",
       "      <th>75%</th>\n",
       "      <td>24.000000</td>\n",
       "      <td>1288.250000</td>\n",
       "      <td>751.500000</td>\n",
       "      <td>5285.000000</td>\n",
       "      <td>837.25000</td>\n",
       "      <td>330.000000</td>\n",
       "      <td>162.25000</td>\n",
       "      <td>238.000000</td>\n",
       "      <td>116.000000</td>\n",
       "      <td>80.000000</td>\n",
       "      <td>241.000000</td>\n",
       "      <td>158.000000</td>\n",
       "      <td>153.000000</td>\n",
       "    </tr>\n",
       "    <tr>\n",
       "      <th>max</th>\n",
       "      <td>25.000000</td>\n",
       "      <td>1500.000000</td>\n",
       "      <td>1000.000000</td>\n",
       "      <td>6000.000000</td>\n",
       "      <td>1000.00000</td>\n",
       "      <td>400.000000</td>\n",
       "      <td>200.00000</td>\n",
       "      <td>300.000000</td>\n",
       "      <td>150.000000</td>\n",
       "      <td>100.000000</td>\n",
       "      <td>300.000000</td>\n",
       "      <td>200.000000</td>\n",
       "      <td>200.000000</td>\n",
       "    </tr>\n",
       "  </tbody>\n",
       "</table>\n",
       "</div>"
      ],
      "text/plain": [
       "               age  monthly_income  financial_aid      tuition     housing  \\\n",
       "count  1000.000000     1000.000000    1000.000000  1000.000000  1000.00000   \n",
       "mean     21.675000     1020.650000     504.771000  4520.395000   696.00600   \n",
       "std       2.322664      293.841161     287.092575   860.657944   171.21862   \n",
       "min      18.000000      501.000000       0.000000  3003.000000   401.00000   \n",
       "25%      20.000000      770.750000     261.000000  3779.750000   538.75000   \n",
       "50%      22.000000     1021.000000     513.000000  4547.500000   704.50000   \n",
       "75%      24.000000     1288.250000     751.500000  5285.000000   837.25000   \n",
       "max      25.000000     1500.000000    1000.000000  6000.000000  1000.00000   \n",
       "\n",
       "              food  transportation  books_supplies  entertainment  \\\n",
       "count  1000.000000      1000.00000     1000.000000    1000.000000   \n",
       "mean    252.642000       124.63700      174.761000      84.814000   \n",
       "std      86.949606        43.55799       72.404518      37.970451   \n",
       "min     100.000000        50.00000       50.000000      20.000000   \n",
       "25%     175.000000        88.00000      112.000000      54.000000   \n",
       "50%     255.000000       123.00000      175.000000      86.000000   \n",
       "75%     330.000000       162.25000      238.000000     116.000000   \n",
       "max     400.000000       200.00000      300.000000     150.000000   \n",
       "\n",
       "       personal_care   technology  health_wellness  miscellaneous  \n",
       "count    1000.000000  1000.000000      1000.000000    1000.000000  \n",
       "mean       60.699000   178.304000       114.310000     108.910000  \n",
       "std        22.898007    71.744441        49.591544      52.412221  \n",
       "min        20.000000    50.000000        30.000000      20.000000  \n",
       "25%        41.000000   114.000000        73.000000      63.750000  \n",
       "50%        62.000000   178.000000       115.000000     110.000000  \n",
       "75%        80.000000   241.000000       158.000000     153.000000  \n",
       "max       100.000000   300.000000       200.000000     200.000000  "
      ]
     },
     "execution_count": 9,
     "metadata": {},
     "output_type": "execute_result"
    }
   ],
   "source": [
    "df.describe()"
   ]
  },
  {
   "cell_type": "markdown",
   "id": "9cf41348",
   "metadata": {},
   "source": []
  },
  {
   "cell_type": "markdown",
   "id": "d954773e",
   "metadata": {},
   "source": []
  },
  {
   "cell_type": "code",
   "execution_count": 10,
   "id": "be02df90-b34c-4d03-a2b7-f0b0963f2209",
   "metadata": {},
   "outputs": [
    {
     "data": {
      "text/html": [
       "<div>\n",
       "<style scoped>\n",
       "    .dataframe tbody tr th:only-of-type {\n",
       "        vertical-align: middle;\n",
       "    }\n",
       "\n",
       "    .dataframe tbody tr th {\n",
       "        vertical-align: top;\n",
       "    }\n",
       "\n",
       "    .dataframe thead th {\n",
       "        text-align: right;\n",
       "    }\n",
       "</style>\n",
       "<table border=\"1\" class=\"dataframe\">\n",
       "  <thead>\n",
       "    <tr style=\"text-align: right;\">\n",
       "      <th></th>\n",
       "      <th>age</th>\n",
       "      <th>monthly_income</th>\n",
       "      <th>financial_aid</th>\n",
       "      <th>tuition</th>\n",
       "      <th>housing</th>\n",
       "      <th>food</th>\n",
       "      <th>transportation</th>\n",
       "      <th>books_supplies</th>\n",
       "      <th>entertainment</th>\n",
       "      <th>personal_care</th>\n",
       "      <th>technology</th>\n",
       "      <th>health_wellness</th>\n",
       "      <th>miscellaneous</th>\n",
       "    </tr>\n",
       "  </thead>\n",
       "  <tbody>\n",
       "    <tr>\n",
       "      <th>age</th>\n",
       "      <td>1.000000</td>\n",
       "      <td>-0.015448</td>\n",
       "      <td>-0.022263</td>\n",
       "      <td>0.037042</td>\n",
       "      <td>0.023288</td>\n",
       "      <td>0.029906</td>\n",
       "      <td>-0.015375</td>\n",
       "      <td>0.025567</td>\n",
       "      <td>0.060446</td>\n",
       "      <td>-0.052414</td>\n",
       "      <td>0.005633</td>\n",
       "      <td>-0.025031</td>\n",
       "      <td>0.003904</td>\n",
       "    </tr>\n",
       "    <tr>\n",
       "      <th>monthly_income</th>\n",
       "      <td>-0.015448</td>\n",
       "      <td>1.000000</td>\n",
       "      <td>0.037050</td>\n",
       "      <td>-0.000149</td>\n",
       "      <td>0.004471</td>\n",
       "      <td>-0.018521</td>\n",
       "      <td>0.046152</td>\n",
       "      <td>0.003527</td>\n",
       "      <td>0.024454</td>\n",
       "      <td>0.006842</td>\n",
       "      <td>0.010084</td>\n",
       "      <td>-0.032567</td>\n",
       "      <td>-0.023902</td>\n",
       "    </tr>\n",
       "    <tr>\n",
       "      <th>financial_aid</th>\n",
       "      <td>-0.022263</td>\n",
       "      <td>0.037050</td>\n",
       "      <td>1.000000</td>\n",
       "      <td>0.008536</td>\n",
       "      <td>-0.008199</td>\n",
       "      <td>0.017463</td>\n",
       "      <td>0.017674</td>\n",
       "      <td>-0.048570</td>\n",
       "      <td>0.014249</td>\n",
       "      <td>-0.010427</td>\n",
       "      <td>0.017912</td>\n",
       "      <td>0.024430</td>\n",
       "      <td>-0.002977</td>\n",
       "    </tr>\n",
       "    <tr>\n",
       "      <th>tuition</th>\n",
       "      <td>0.037042</td>\n",
       "      <td>-0.000149</td>\n",
       "      <td>0.008536</td>\n",
       "      <td>1.000000</td>\n",
       "      <td>-0.020992</td>\n",
       "      <td>-0.019216</td>\n",
       "      <td>0.036734</td>\n",
       "      <td>-0.009433</td>\n",
       "      <td>-0.036925</td>\n",
       "      <td>-0.039074</td>\n",
       "      <td>-0.007864</td>\n",
       "      <td>0.010978</td>\n",
       "      <td>-0.014844</td>\n",
       "    </tr>\n",
       "    <tr>\n",
       "      <th>housing</th>\n",
       "      <td>0.023288</td>\n",
       "      <td>0.004471</td>\n",
       "      <td>-0.008199</td>\n",
       "      <td>-0.020992</td>\n",
       "      <td>1.000000</td>\n",
       "      <td>-0.038335</td>\n",
       "      <td>-0.001975</td>\n",
       "      <td>-0.009936</td>\n",
       "      <td>0.021142</td>\n",
       "      <td>0.014577</td>\n",
       "      <td>-0.017230</td>\n",
       "      <td>-0.006323</td>\n",
       "      <td>0.013337</td>\n",
       "    </tr>\n",
       "    <tr>\n",
       "      <th>food</th>\n",
       "      <td>0.029906</td>\n",
       "      <td>-0.018521</td>\n",
       "      <td>0.017463</td>\n",
       "      <td>-0.019216</td>\n",
       "      <td>-0.038335</td>\n",
       "      <td>1.000000</td>\n",
       "      <td>-0.003443</td>\n",
       "      <td>0.075485</td>\n",
       "      <td>0.012960</td>\n",
       "      <td>0.047422</td>\n",
       "      <td>0.034033</td>\n",
       "      <td>-0.003700</td>\n",
       "      <td>0.005192</td>\n",
       "    </tr>\n",
       "    <tr>\n",
       "      <th>transportation</th>\n",
       "      <td>-0.015375</td>\n",
       "      <td>0.046152</td>\n",
       "      <td>0.017674</td>\n",
       "      <td>0.036734</td>\n",
       "      <td>-0.001975</td>\n",
       "      <td>-0.003443</td>\n",
       "      <td>1.000000</td>\n",
       "      <td>0.012900</td>\n",
       "      <td>0.008505</td>\n",
       "      <td>0.048892</td>\n",
       "      <td>-0.003910</td>\n",
       "      <td>0.024824</td>\n",
       "      <td>0.032136</td>\n",
       "    </tr>\n",
       "    <tr>\n",
       "      <th>books_supplies</th>\n",
       "      <td>0.025567</td>\n",
       "      <td>0.003527</td>\n",
       "      <td>-0.048570</td>\n",
       "      <td>-0.009433</td>\n",
       "      <td>-0.009936</td>\n",
       "      <td>0.075485</td>\n",
       "      <td>0.012900</td>\n",
       "      <td>1.000000</td>\n",
       "      <td>0.004742</td>\n",
       "      <td>-0.037669</td>\n",
       "      <td>0.019464</td>\n",
       "      <td>0.000030</td>\n",
       "      <td>-0.001294</td>\n",
       "    </tr>\n",
       "    <tr>\n",
       "      <th>entertainment</th>\n",
       "      <td>0.060446</td>\n",
       "      <td>0.024454</td>\n",
       "      <td>0.014249</td>\n",
       "      <td>-0.036925</td>\n",
       "      <td>0.021142</td>\n",
       "      <td>0.012960</td>\n",
       "      <td>0.008505</td>\n",
       "      <td>0.004742</td>\n",
       "      <td>1.000000</td>\n",
       "      <td>-0.023282</td>\n",
       "      <td>0.012152</td>\n",
       "      <td>-0.032671</td>\n",
       "      <td>-0.019109</td>\n",
       "    </tr>\n",
       "    <tr>\n",
       "      <th>personal_care</th>\n",
       "      <td>-0.052414</td>\n",
       "      <td>0.006842</td>\n",
       "      <td>-0.010427</td>\n",
       "      <td>-0.039074</td>\n",
       "      <td>0.014577</td>\n",
       "      <td>0.047422</td>\n",
       "      <td>0.048892</td>\n",
       "      <td>-0.037669</td>\n",
       "      <td>-0.023282</td>\n",
       "      <td>1.000000</td>\n",
       "      <td>0.050225</td>\n",
       "      <td>0.004207</td>\n",
       "      <td>-0.014038</td>\n",
       "    </tr>\n",
       "    <tr>\n",
       "      <th>technology</th>\n",
       "      <td>0.005633</td>\n",
       "      <td>0.010084</td>\n",
       "      <td>0.017912</td>\n",
       "      <td>-0.007864</td>\n",
       "      <td>-0.017230</td>\n",
       "      <td>0.034033</td>\n",
       "      <td>-0.003910</td>\n",
       "      <td>0.019464</td>\n",
       "      <td>0.012152</td>\n",
       "      <td>0.050225</td>\n",
       "      <td>1.000000</td>\n",
       "      <td>-0.025953</td>\n",
       "      <td>0.005714</td>\n",
       "    </tr>\n",
       "    <tr>\n",
       "      <th>health_wellness</th>\n",
       "      <td>-0.025031</td>\n",
       "      <td>-0.032567</td>\n",
       "      <td>0.024430</td>\n",
       "      <td>0.010978</td>\n",
       "      <td>-0.006323</td>\n",
       "      <td>-0.003700</td>\n",
       "      <td>0.024824</td>\n",
       "      <td>0.000030</td>\n",
       "      <td>-0.032671</td>\n",
       "      <td>0.004207</td>\n",
       "      <td>-0.025953</td>\n",
       "      <td>1.000000</td>\n",
       "      <td>-0.024968</td>\n",
       "    </tr>\n",
       "    <tr>\n",
       "      <th>miscellaneous</th>\n",
       "      <td>0.003904</td>\n",
       "      <td>-0.023902</td>\n",
       "      <td>-0.002977</td>\n",
       "      <td>-0.014844</td>\n",
       "      <td>0.013337</td>\n",
       "      <td>0.005192</td>\n",
       "      <td>0.032136</td>\n",
       "      <td>-0.001294</td>\n",
       "      <td>-0.019109</td>\n",
       "      <td>-0.014038</td>\n",
       "      <td>0.005714</td>\n",
       "      <td>-0.024968</td>\n",
       "      <td>1.000000</td>\n",
       "    </tr>\n",
       "  </tbody>\n",
       "</table>\n",
       "</div>"
      ],
      "text/plain": [
       "                      age  monthly_income  financial_aid   tuition   housing  \\\n",
       "age              1.000000       -0.015448      -0.022263  0.037042  0.023288   \n",
       "monthly_income  -0.015448        1.000000       0.037050 -0.000149  0.004471   \n",
       "financial_aid   -0.022263        0.037050       1.000000  0.008536 -0.008199   \n",
       "tuition          0.037042       -0.000149       0.008536  1.000000 -0.020992   \n",
       "housing          0.023288        0.004471      -0.008199 -0.020992  1.000000   \n",
       "food             0.029906       -0.018521       0.017463 -0.019216 -0.038335   \n",
       "transportation  -0.015375        0.046152       0.017674  0.036734 -0.001975   \n",
       "books_supplies   0.025567        0.003527      -0.048570 -0.009433 -0.009936   \n",
       "entertainment    0.060446        0.024454       0.014249 -0.036925  0.021142   \n",
       "personal_care   -0.052414        0.006842      -0.010427 -0.039074  0.014577   \n",
       "technology       0.005633        0.010084       0.017912 -0.007864 -0.017230   \n",
       "health_wellness -0.025031       -0.032567       0.024430  0.010978 -0.006323   \n",
       "miscellaneous    0.003904       -0.023902      -0.002977 -0.014844  0.013337   \n",
       "\n",
       "                     food  transportation  books_supplies  entertainment  \\\n",
       "age              0.029906       -0.015375        0.025567       0.060446   \n",
       "monthly_income  -0.018521        0.046152        0.003527       0.024454   \n",
       "financial_aid    0.017463        0.017674       -0.048570       0.014249   \n",
       "tuition         -0.019216        0.036734       -0.009433      -0.036925   \n",
       "housing         -0.038335       -0.001975       -0.009936       0.021142   \n",
       "food             1.000000       -0.003443        0.075485       0.012960   \n",
       "transportation  -0.003443        1.000000        0.012900       0.008505   \n",
       "books_supplies   0.075485        0.012900        1.000000       0.004742   \n",
       "entertainment    0.012960        0.008505        0.004742       1.000000   \n",
       "personal_care    0.047422        0.048892       -0.037669      -0.023282   \n",
       "technology       0.034033       -0.003910        0.019464       0.012152   \n",
       "health_wellness -0.003700        0.024824        0.000030      -0.032671   \n",
       "miscellaneous    0.005192        0.032136       -0.001294      -0.019109   \n",
       "\n",
       "                 personal_care  technology  health_wellness  miscellaneous  \n",
       "age                  -0.052414    0.005633        -0.025031       0.003904  \n",
       "monthly_income        0.006842    0.010084        -0.032567      -0.023902  \n",
       "financial_aid        -0.010427    0.017912         0.024430      -0.002977  \n",
       "tuition              -0.039074   -0.007864         0.010978      -0.014844  \n",
       "housing               0.014577   -0.017230        -0.006323       0.013337  \n",
       "food                  0.047422    0.034033        -0.003700       0.005192  \n",
       "transportation        0.048892   -0.003910         0.024824       0.032136  \n",
       "books_supplies       -0.037669    0.019464         0.000030      -0.001294  \n",
       "entertainment        -0.023282    0.012152        -0.032671      -0.019109  \n",
       "personal_care         1.000000    0.050225         0.004207      -0.014038  \n",
       "technology            0.050225    1.000000        -0.025953       0.005714  \n",
       "health_wellness       0.004207   -0.025953         1.000000      -0.024968  \n",
       "miscellaneous        -0.014038    0.005714        -0.024968       1.000000  "
      ]
     },
     "execution_count": 10,
     "metadata": {},
     "output_type": "execute_result"
    }
   ],
   "source": [
    "df.corr(numeric_only=True)"
   ]
  },
  {
   "cell_type": "markdown",
   "id": "8f521625",
   "metadata": {},
   "source": [
    " It indicates that most variables are not strongly related to each other, as most values are close to zero (0). There are only a few minor relationships, such as between food and books/supplies (0.075) and personal care and transportation (0.048). Thus, the variables show low or no significant correlation."
   ]
  },
  {
   "cell_type": "code",
   "execution_count": 11,
   "id": "a04a1c9c",
   "metadata": {},
   "outputs": [
    {
     "data": {
      "text/plain": [
       "Index(['age', 'gender', 'year_in_school', 'major', 'monthly_income',\n",
       "       'financial_aid', 'tuition', 'housing', 'food', 'transportation',\n",
       "       'books_supplies', 'entertainment', 'personal_care', 'technology',\n",
       "       'health_wellness', 'miscellaneous', 'preferred_payment_method'],\n",
       "      dtype='object')"
      ]
     },
     "execution_count": 11,
     "metadata": {},
     "output_type": "execute_result"
    }
   ],
   "source": [
    "df.columns"
   ]
  },
  {
   "cell_type": "code",
   "execution_count": 12,
   "id": "68a0119e-b952-44d6-9051-6a14d0b7c975",
   "metadata": {},
   "outputs": [
    {
     "name": "stdout",
     "output_type": "stream",
     "text": [
      "Monthly Income - Mean: 1020.65\n",
      "Monthly Income - Median: 1021.0\n",
      "Monthly Income - Standard Deviation: 293.84116139187876\n"
     ]
    }
   ],
   "source": [
    "\n",
    "# To calculate the mean , median, and standard deviation for monthly income\n",
    "income_mean = df['monthly_income'].mean()\n",
    "income_median = df['monthly_income'].median()\n",
    "income_std_dev = df['monthly_income'].std()\n",
    "\n",
    "# print results for mean, median, and standard devision\n",
    "print( \"Monthly Income - Mean:\", income_mean)\n",
    "print( \"Monthly Income - Median:\",income_median)\n",
    "print( \"Monthly Income - Standard Deviation:\",income_std_dev)"
   ]
  },
  {
   "cell_type": "markdown",
   "id": "c583ca1a",
   "metadata": {},
   "source": []
  },
  {
   "cell_type": "code",
   "execution_count": 13,
   "id": "92e8a4f9",
   "metadata": {},
   "outputs": [
    {
     "data": {
      "text/plain": [
       "array(['Non-binary', 'Female', 'Male'], dtype=object)"
      ]
     },
     "execution_count": 13,
     "metadata": {},
     "output_type": "execute_result"
    }
   ],
   "source": [
    "df['gender'].unique()"
   ]
  },
  {
   "cell_type": "code",
   "execution_count": 14,
   "id": "0be3d7b9",
   "metadata": {},
   "outputs": [
    {
     "data": {
      "text/plain": [
       "gender\n",
       "Male          356\n",
       "Female        323\n",
       "Non-binary    321\n",
       "Name: count, dtype: int64"
      ]
     },
     "execution_count": 14,
     "metadata": {},
     "output_type": "execute_result"
    }
   ],
   "source": [
    "df['gender'].value_counts()"
   ]
  },
  {
   "cell_type": "markdown",
   "id": "65a4c700",
   "metadata": {},
   "source": []
  },
  {
   "cell_type": "code",
   "execution_count": 15,
   "id": "54325f74",
   "metadata": {},
   "outputs": [
    {
     "data": {
      "text/plain": [
       "array(['Freshman', 'Junior', 'Senior', 'Sophomore'], dtype=object)"
      ]
     },
     "execution_count": 15,
     "metadata": {},
     "output_type": "execute_result"
    }
   ],
   "source": [
    "df['year_in_school'].unique()"
   ]
  },
  {
   "cell_type": "code",
   "execution_count": 16,
   "id": "6df804e2",
   "metadata": {},
   "outputs": [
    {
     "data": {
      "text/plain": [
       "year_in_school\n",
       "Senior       254\n",
       "Freshman     253\n",
       "Junior       247\n",
       "Sophomore    246\n",
       "Name: count, dtype: int64"
      ]
     },
     "execution_count": 16,
     "metadata": {},
     "output_type": "execute_result"
    }
   ],
   "source": [
    "df['year_in_school'].value_counts()"
   ]
  },
  {
   "cell_type": "code",
   "execution_count": 17,
   "id": "50f11bfc",
   "metadata": {},
   "outputs": [
    {
     "data": {
      "text/plain": [
       "array(['Psychology', 'Economics', 'Computer Science', 'Engineering',\n",
       "       'Biology'], dtype=object)"
      ]
     },
     "execution_count": 17,
     "metadata": {},
     "output_type": "execute_result"
    }
   ],
   "source": [
    "df['major'].unique()"
   ]
  },
  {
   "cell_type": "code",
   "execution_count": 18,
   "id": "94ac449c",
   "metadata": {},
   "outputs": [
    {
     "data": {
      "text/plain": [
       "major\n",
       "Biology             228\n",
       "Economics           204\n",
       "Computer Science    192\n",
       "Engineering         192\n",
       "Psychology          184\n",
       "Name: count, dtype: int64"
      ]
     },
     "execution_count": 18,
     "metadata": {},
     "output_type": "execute_result"
    }
   ],
   "source": [
    "df['major'].value_counts()"
   ]
  },
  {
   "cell_type": "code",
   "execution_count": 19,
   "id": "548041fc",
   "metadata": {},
   "outputs": [
    {
     "data": {
      "text/plain": [
       "array(['Credit/Debit Card', 'Cash', 'Mobile Payment App'], dtype=object)"
      ]
     },
     "execution_count": 19,
     "metadata": {},
     "output_type": "execute_result"
    }
   ],
   "source": [
    "df['preferred_payment_method'].unique()"
   ]
  },
  {
   "cell_type": "code",
   "execution_count": 20,
   "id": "bdff216c",
   "metadata": {},
   "outputs": [
    {
     "data": {
      "text/plain": [
       "preferred_payment_method\n",
       "Mobile Payment App    350\n",
       "Credit/Debit Card     340\n",
       "Cash                  310\n",
       "Name: count, dtype: int64"
      ]
     },
     "execution_count": 20,
     "metadata": {},
     "output_type": "execute_result"
    }
   ],
   "source": [
    "df['preferred_payment_method'].value_counts()"
   ]
  },
  {
   "cell_type": "code",
   "execution_count": 21,
   "id": "6a6b1152",
   "metadata": {},
   "outputs": [],
   "source": [
    "subject_count = df['major'].value_counts()\n",
    "labels = df['major'].unique()\n",
    "\n",
    "def plot_pie_chart():\n",
    "    \"\"\"\n",
    "    Creates a pie chart of the column named major \n",
    "    \"\"\"\n",
    "    plt.figure(dpi=144)\n",
    "    plt.pie(subject_count, labels=labels, autopct='%1.1f%%')\n",
    "    plt.title('Percentage of Students in each Major')\n",
    "    plt.axis('Equal')\n",
    "    plt.show()\n",
    "    return"
   ]
  },
  {
   "cell_type": "code",
   "execution_count": 22,
   "id": "d16d8c76",
   "metadata": {},
   "outputs": [
    {
     "data": {
      "image/png": "[encoded data removed]",
      "text/plain": [
       "<Figure size 921.6x691.2 with 1 Axes>"
      ]
     },
     "metadata": {},
     "output_type": "display_data"
    }
   ],
   "source": [
    "plot_pie_chart()"
   ]
  },
  {
   "cell_type": "markdown",
   "id": "dcf01416",
   "metadata": {},
   "source": []
  },
  {
   "cell_type": "code",
   "execution_count": 23,
   "id": "68464f79",
   "metadata": {},
   "outputs": [
    {
     "data": {
      "text/plain": [
       "array(['Freshman', 'Junior', 'Senior', 'Sophomore'], dtype=object)"
      ]
     },
     "execution_count": 23,
     "metadata": {},
     "output_type": "execute_result"
    }
   ],
   "source": [
    "df.year_in_school.unique()"
   ]
  },
  {
   "cell_type": "code",
   "execution_count": 26,
   "id": "d65883a2",
   "metadata": {},
   "outputs": [],
   "source": [
    "\n",
    "avg_health_wellness = df.groupby('gender')['health_wellness'].sum()\n",
    "def bar_plot_avg_health_wellness():\n",
    "    \"\"\"\n",
    "    Creates a bar chart of the average health_wellness by year in school\n",
    "    \"\"\"\n",
    "    avg_health_wellness.plot(kind='bar')\n",
    "    plt.xlabel('Gender')\n",
    "    plt.ylabel('Average health Wellness')\n",
    "    plt.title('Average tuition by Gender')\n",
    "    plt.show()\n",
    "    return\n"
   ]
  },
  {
   "cell_type": "code",
   "execution_count": 27,
   "id": "b99e9ea2",
   "metadata": {},
   "outputs": [
    {
     "data": {
      "image/png": "[encoded data removed]",
      "text/plain": [
       "<Figure size 640x480 with 1 Axes>"
      ]
     },
     "metadata": {},
     "output_type": "display_data"
    }
   ],
   "source": [
    "bar_plot_avg_health_wellness()"
   ]
  },
  {
   "cell_type": "markdown",
   "id": "32beed56",
   "metadata": {},
   "source": [
    " "
   ]
  },
  {
   "cell_type": "code",
   "execution_count": 37,
   "id": "9faff23a",
   "metadata": {},
   "outputs": [],
   "source": [
    "def scatter_plot():\n",
    "    \"\"\"\n",
    "    Creates a scatter plot of random x and y data\n",
    "    \"\"\"\n",
    "    plt.figure(figsize=(9, 5), dpi=144)\n",
    "\n",
    "    # scatter plot\n",
    "    plt.scatter(data = df, x = 'housing', y = 'food', color='red')\n",
    "   \n",
    "\n",
    "    # formatting\n",
    "    plt.title('housing vs. food')\n",
    "    plt.xlabel('housing')\n",
    "    plt.ylabel('food')\n",
    "    plt.show()\n",
    "    return\n"
   ]
  },
  {
   "cell_type": "code",
   "execution_count": 38,
   "id": "923a9668-69cc-4f78-9ba2-e9e10cb69826",
   "metadata": {},
   "outputs": [
    {
     "data": {
      "image/png": "[encoded data removed]",
      "text/plain": [
       "<Figure size 1296x720 with 1 Axes>"
      ]
     },
     "metadata": {},
     "output_type": "display_data"
    }
   ],
   "source": [
    "scatter_plot()"
   ]
  },
  {
   "cell_type": "markdown",
   "id": "a40fba49",
   "metadata": {},
   "source": []
  },
  {
   "cell_type": "code",
   "execution_count": null,
   "id": "d87cfcce",
   "metadata": {},
   "outputs": [],
   "source": [
    "def histogram():\n",
    "    # Selecting the columns to plot\n",
    "    cols = df[['financial_aid', 'entertainment', 'transportation', 'technology']]\n",
    "\n",
    "    # Looping through each column to create a histogram\n",
    "    for i, column in enumerate(cols.columns):\n",
    "        plt.subplot(2, 2, i + 1)  # Creating a 2x2 grid for subplots\n",
    "        plt.hist(cols[column], bins=50, edgecolor='black')\n",
    "        plt.title(f'Histogram of {column}')\n",
    "        plt.xlabel(column)\n",
    "        plt.ylabel('Frequency')\n",
    "        # Adjusting the spacing between subplots\n",
    "        plt.tight_layout()\n",
    "    plt.show()\n",
    "    return"
   ]
  },
  {
   "cell_type": "code",
   "execution_count": 43,
   "id": "6f7e7742",
   "metadata": {},
   "outputs": [
    {
     "data": {
      "image/png": "[encoded data removed]",
      "text/plain": [
       "<Figure size 640x480 with 4 Axes>"
      ]
     },
     "metadata": {},
     "output_type": "display_data"
    }
   ],
   "source": [
    "histogram()"
   ]
  },
  {
   "cell_type": "markdown",
   "id": "a7cb09cf",
   "metadata": {},
   "source": []
  },
  {
   "cell_type": "code",
   "execution_count": null,
   "id": "9f4e3ac6",
   "metadata": {},
   "outputs": [],
   "source": []
  }
 ],
 "metadata": {
  "kernelspec": {
   "display_name": "Python 3",
   "language": "python",
   "name": "python3"
  },
  "language_info": {
   "codemirror_mode": {
    "name": "ipython",
    "version": 3
   },
   "file_extension": ".py",
   "mimetype": "text/x-python",
   "name": "python",
   "nbconvert_exporter": "python",
   "pygments_lexer": "ipython3",
   "version": "3.13.0"
  }
 },
 "nbformat": 4,
 "nbformat_minor": 5
}
